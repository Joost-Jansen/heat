{
 "cells": [
  {
   "cell_type": "code",
   "execution_count": 12,
   "id": "3b8d0772",
   "metadata": {},
   "outputs": [],
   "source": [
    "# Generate txt files that indicate train, validation, test split\n",
    "\n",
    "import os\n",
    "\n",
    "# Read files in the directory\n",
    "directory = \"./annot\"\n",
    "file_names_without_extension = []\n",
    "\n",
    "for file_name in os.listdir(directory):\n",
    "    if os.path.isfile(os.path.join(directory, file_name)):\n",
    "        filename_parts = file_name.split(\".\")\n",
    "        filename_without_extension = filename_parts[0]\n",
    "        file_names_without_extension.append(filename_without_extension)\n",
    "\n",
    "# Create splits and write to txt files\n",
    "n = len(file_names_without_extension)\n",
    "train_size = 0.8 * n\n",
    "valid_size = 0.05 * n\n",
    "\n",
    "with open(\"train_list.txt\", \"w\") as f:\n",
    "    for i in range(int(train_size)):\n",
    "        f.write(file_names_without_extension[i] + \"\\n\")\n",
    "\n",
    "with open(\"valid_list.txt\", \"w\") as f:\n",
    "    start = train_size\n",
    "    end = train_size + valid_size\n",
    "    for i in range(int(start), int(end)):\n",
    "        f.write(file_names_without_extension[i] + \"\\n\")\n",
    "\n",
    "with open(\"test_list.txt\", \"w\") as f:\n",
    "    start = train_size + valid_size\n",
    "    for i in range(int(valid_size), n-1):\n",
    "        f.write(file_names_without_extension[i] + \"\\n\")"
   ]
  },
  {
   "cell_type": "code",
   "execution_count": null,
   "id": "c2c7bde6",
   "metadata": {},
   "outputs": [],
   "source": []
  }
 ],
 "metadata": {
  "kernelspec": {
   "display_name": "Python 3 (ipykernel)",
   "language": "python",
   "name": "python3"
  },
  "language_info": {
   "codemirror_mode": {
    "name": "ipython",
    "version": 3
   },
   "file_extension": ".py",
   "mimetype": "text/x-python",
   "name": "python",
   "nbconvert_exporter": "python",
   "pygments_lexer": "ipython3",
   "version": "3.10.8"
  }
 },
 "nbformat": 4,
 "nbformat_minor": 5
}
